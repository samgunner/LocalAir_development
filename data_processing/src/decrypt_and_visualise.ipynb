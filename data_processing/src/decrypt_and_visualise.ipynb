{
 "cells": [
  {
   "cell_type": "markdown",
   "id": "0",
   "metadata": {},
   "source": [
    "# Process LocalAir sensor data\n",
    "\n",
    "This script will import data from the LocalAir Escooter-based sensors.\n",
    "\n",
    "Data is encryped by the sensors, and this script decryptes before converting it into a pandas dataframe\n",
    "and then visualising it.\n",
    "\n",
    "Data can either be retrieved from a speificied folder, where all of the .bin files will be imported,\n",
    "or it can be downloaded directly from the website which the sensors uploads to. To avoid downloading\n",
    "files unnecceraily a time range can be specified.\n",
    "\n",
    "Behaviour is controlled through the \"source\" flag."
   ]
  },
  {
   "cell_type": "code",
   "execution_count": null,
   "id": "1",
   "metadata": {
    "metadata": {}
   },
   "outputs": [],
   "source": [
    "from pathlib import Path\n",
    "import warnings\n",
    "\n",
    "import geopandas as gpd\n",
    "import matplotlib.pyplot as plt\n",
    "import numpy as np\n",
    "import pandas as pd\n",
    "import seaborn as sns\n",
    "import toml\n",
    "\n",
    "from lib.decryption import LocalAirDecryptor\n",
    "from lib.preprocess import convert_to_dataframe\n",
    "\n",
    "secrets = toml.load('secrets.toml')\n",
    "\n",
    "%reload_ext autoreload\n",
    "%autoreload 2\n",
    "\n",
    "pd.options.display.max_columns = None"
   ]
  },
  {
   "cell_type": "code",
   "execution_count": null,
   "id": "2",
   "metadata": {},
   "outputs": [],
   "source": [
    "#key = random.getrandbits(256)\n",
    "key = secrets['key']\n",
    "decryptor = LocalAirDecryptor(key, block_size=128)\n",
    "\n",
    "#datafiles = list(Path('../data/from_server').glob('*.bin'))\n",
    "datafiles = list(Path('../data/240330').glob('*.txt'))"
   ]
  },
  {
   "cell_type": "code",
   "execution_count": null,
   "id": "3",
   "metadata": {
    "metadata": {}
   },
   "outputs": [],
   "source": [
    "def decrypt_datafile(datafile):\n",
    "    with datafile.open() as f:\n",
    "        for line_no, line in enumerate(f):\n",
    "            line = line.rstrip('\\n')\n",
    "            if not line:\n",
    "                continue\n",
    "\n",
    "            try:\n",
    "                yield decryptor.decrypt_data(line)\n",
    "            except ValueError as e:\n",
    "                warnings.warn(f'Failed to process line {line_no} in {datafile}: {e}', stacklevel=2)\n",
    "                continue\n",
    "\n",
    "def decrypt_datafiles(datafiles):\n",
    "    for datafile in datafiles:\n",
    "        yield from decrypt_datafile(datafile)"
   ]
  },
  {
   "cell_type": "code",
   "execution_count": null,
   "id": "4",
   "metadata": {
    "metadata": {}
   },
   "outputs": [],
   "source": [
    "message = list(decrypt_datafiles(datafiles))\n",
    "data = convert_to_dataframe(message)\n",
    "data.head()"
   ]
  },
  {
   "cell_type": "markdown",
   "id": "5",
   "metadata": {},
   "source": [
    "## Plotting"
   ]
  },
  {
   "cell_type": "markdown",
   "id": "6",
   "metadata": {},
   "source": [
    "### Points"
   ]
  },
  {
   "cell_type": "code",
   "execution_count": null,
   "id": "7",
   "metadata": {},
   "outputs": [],
   "source": [
    "data.plot(markersize=0.1)"
   ]
  },
  {
   "cell_type": "code",
   "execution_count": null,
   "id": "8",
   "metadata": {},
   "outputs": [],
   "source": [
    "during_experiment = (data['datetime'] > '2023-10-19T00:00:00Z') & (data['datetime'] < '2024-11-15T00:00:00Z')\n",
    "\n",
    "def explore(data, *args, save_as=None, **kwargs):\n",
    "    if 'datetime' in data:\n",
    "        # If present, convert Python datetimes to strings so they can be serialised as JSON\n",
    "        data = data.astype({'datetime': str})\n",
    "    \n",
    "    kwargs = {\n",
    "        'tiles': 'CartoDB positron',\n",
    "        'cmap': 'magma_r',\n",
    "        'marker_kwds': {'radius': 5},\n",
    "        # This is set below: 'map_kwds': {'scrollWheelZoom': False},\n",
    "        **kwargs,\n",
    "    }\n",
    "\n",
    "    map = data.explore(*args, **kwargs)\n",
    "    \n",
    "    # If a filename is passed as save_as, then save an HTML version of the map\n",
    "    if save_as is not None:\n",
    "        map.save('../outputs/' + save_as)\n",
    "\n",
    "    # Show the map but disable zooming with th emouse wheel as this makes navigating\n",
    "    # the Jupyter notebook painful\n",
    "    map.options['scrollWheelZoom'] = False\n",
    "    return map\n",
    "\n",
    "explore(\n",
    "    data[during_experiment],\n",
    "    save_as='map_points.html',\n",
    ")"
   ]
  },
  {
   "cell_type": "markdown",
   "id": "9",
   "metadata": {},
   "source": [
    "### CO"
   ]
  },
  {
   "cell_type": "code",
   "execution_count": null,
   "id": "10",
   "metadata": {},
   "outputs": [],
   "source": [
    "explore(\n",
    "    data[during_experiment],\n",
    "    'MultiGas.co',\n",
    "    save_as='map_CO.html',\n",
    ")"
   ]
  },
  {
   "cell_type": "code",
   "execution_count": null,
   "id": "11",
   "metadata": {},
   "outputs": [],
   "source": [
    "#clipped = ~data.clip_by_rect(-2.604, 51.445, -2.567, 51.475).is_empty\n",
    "clipped = ~data.clip_by_rect(-10, 50, 0, 52).is_empty\n",
    "explore(\n",
    "    data[during_experiment & clipped],\n",
    "    'MultiGas.co',\n",
    "    save_as='map_CO_transparent.html',\n",
    "    style_kwds={'stroke': False, 'fillOpacity': 0.2},\n",
    "    #style_kwds={'stroke': False, 'fillOpacity': 1},\n",
    "    marker_kwds={'radius': 20},\n",
    ")"
   ]
  },
  {
   "cell_type": "code",
   "execution_count": null,
   "id": "12",
   "metadata": {},
   "outputs": [],
   "source": [
    "import h3pandas\n",
    "explore(\n",
    "    data[during_experiment & clipped]\n",
    "        .set_index('datetime')\n",
    "        .h3.geo_to_h3_aggregate(operation='max', resolution=10),\n",
    "    'MultiGas.co',\n",
    "    save_as='map_CO_hex.html',\n",
    ")"
   ]
  },
  {
   "cell_type": "markdown",
   "id": "13",
   "metadata": {},
   "source": [
    "### NO₂"
   ]
  },
  {
   "cell_type": "code",
   "execution_count": null,
   "id": "14",
   "metadata": {},
   "outputs": [],
   "source": [
    "explore(\n",
    "    data[during_experiment],\n",
    "    'MultiGas.no2',\n",
    "    save_as='map_NOx.html',\n",
    ")"
   ]
  },
  {
   "cell_type": "markdown",
   "id": "15",
   "metadata": {},
   "source": [
    "### PM₁₀"
   ]
  },
  {
   "cell_type": "code",
   "execution_count": null,
   "id": "16",
   "metadata": {},
   "outputs": [],
   "source": [
    "explore(\n",
    "    data[during_experiment],\n",
    "    'PM_Sensor.atmos_enviro.AE_10.0',\n",
    "    scheme='quantiles',\n",
    "    k=10,\n",
    "    save_as='map_PM10.html',\n",
    ")"
   ]
  },
  {
   "cell_type": "code",
   "execution_count": null,
   "id": "17",
   "metadata": {},
   "outputs": [],
   "source": [
    "def log_column(df, column):\n",
    "    return df.assign(**{column: np.log(df[column] + 1)})\n",
    "\n",
    "explore(\n",
    "    data[during_experiment]\n",
    "        .pipe(log_column, 'PM_Sensor.atmos_enviro.AE_10.0'),\n",
    "    'PM_Sensor.atmos_enviro.AE_10.0',\n",
    "    save_as='map_PM10_log.html',\n",
    ")"
   ]
  },
  {
   "cell_type": "markdown",
   "id": "18",
   "metadata": {},
   "source": [
    "## Correlations"
   ]
  },
  {
   "cell_type": "code",
   "execution_count": null,
   "id": "19",
   "metadata": {},
   "outputs": [],
   "source": [
    "(\n",
    "    data.select_dtypes(['Int64', 'Float64'])\n",
    "    .corr()\n",
    "    .style.background_gradient(cmap='RdBu', vmin=-1, vmax=1)\n",
    ")"
   ]
  },
  {
   "cell_type": "code",
   "execution_count": null,
   "id": "20",
   "metadata": {},
   "outputs": [],
   "source": [
    "sns.heatmap(\n",
    "    data.select_dtypes(['Int64', 'Float64'])\n",
    "        .corr(),\n",
    "    cmap='RdBu',\n",
    "    vmin=-1,\n",
    "    vmax=1,\n",
    ")"
   ]
  },
  {
   "cell_type": "code",
   "execution_count": null,
   "id": "21",
   "metadata": {},
   "outputs": [],
   "source": [
    "sns.heatmap(\n",
    "    data.select_dtypes(['Int64', 'Float64'])\n",
    "        .loc[:, :'PM_Sensor.atmos_enviro.AE_10.0']\n",
    "        .corr(),\n",
    "    cmap='RdBu',\n",
    "    vmin=-1,\n",
    "    vmax=1,\n",
    ")"
   ]
  },
  {
   "cell_type": "code",
   "execution_count": null,
   "id": "22",
   "metadata": {},
   "outputs": [],
   "source": [
    "data.plot.scatter(x='FFT.258Hz', y='PM_Sensor.atmos_enviro.AE_10.0', logx=True, logy=True, alpha=0.1)"
   ]
  },
  {
   "cell_type": "markdown",
   "id": "23",
   "metadata": {},
   "source": [
    "## Spectrogram"
   ]
  },
  {
   "cell_type": "code",
   "execution_count": null,
   "id": "24",
   "metadata": {},
   "outputs": [],
   "source": [
    "fft_data = data.set_index('datetime').filter(like='FFT.').astype(float)\n",
    "\n",
    "image = plt.imshow(fft_data.T, aspect='auto', origin='lower', norm='log')\n",
    "image.axes.yaxis.set_ticks(range(len(fft_data.columns)), [freq[4:-2] for freq in fft_data.columns])\n",
    "image.axes.set_ylabel('Hz')\n",
    "\n",
    "plt.colorbar()"
   ]
  },
  {
   "cell_type": "code",
   "execution_count": null,
   "id": "25",
   "metadata": {},
   "outputs": [],
   "source": [
    "data.plot.scatter(x='GPS.speed', y='FFT.387Hz', alpha=0.02)"
   ]
  },
  {
   "cell_type": "code",
   "execution_count": null,
   "id": "26",
   "metadata": {},
   "outputs": [],
   "source": []
  }
 ],
 "metadata": {
  "kernelspec": {
   "display_name": "Python 3 (ipykernel)",
   "language": "python",
   "name": "python3"
  },
  "language_info": {
   "codemirror_mode": {
    "name": "ipython",
    "version": 3
   },
   "file_extension": ".py",
   "mimetype": "text/x-python",
   "name": "python",
   "nbconvert_exporter": "python",
   "pygments_lexer": "ipython3",
   "version": "3.11.8"
  }
 },
 "nbformat": 4,
 "nbformat_minor": 5
}
